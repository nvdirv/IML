{
 "cells": [
  {
   "cell_type": "code",
   "execution_count": 2,
   "metadata": {},
   "outputs": [
    {
     "name": "stdout",
     "output_type": "stream",
     "text": [
      "         client_id      datetime  code  type         sum source_id  status  \\\n",
      "0         96372458  421 06:33:15  6011  2010  -561478.94    256572       0   \n",
      "1         96372458   68 02:04:11  6011  2010  -426724.00       NaN       0   \n",
      "2         96372458  433 06:45:32  6011  2010  -112295.79    256566       0   \n",
      "3         96372458  314 01:18:44  6011  2010 -1122957.89    256566       0   \n",
      "4         96372458  350 01:09:16  6011  2010 -1100498.73    256566       0   \n",
      "5         96372458  445 07:35:23  6011  2010  -494101.47    256566       0   \n",
      "6         96372458  396 07:48:53  6011  2010  -101066.21    256566       0   \n",
      "7         96372458  430 06:29:50  6011  2010  -224591.58    256566       0   \n",
      "8         96372458   25 06:58:51  6011  2010   -78607.05       NaN       0   \n",
      "9         96372458  421 01:56:12  6011  2010  -314428.21    581606       0   \n",
      "10        96372458  278 04:04:05  6011  2010  -179673.26    581606       0   \n",
      "11        96372458  192 01:14:36  6011  2010  -583938.10       NaN       0   \n",
      "12        96372458  168 02:05:52  6011  2010 -1122957.89       NaN       0   \n",
      "13        96372458   67 07:16:07  6011  2010  -336887.37       NaN       0   \n",
      "14        96372458    7 04:08:20  6011  2010  -426724.00       NaN       0   \n",
      "15        96372458  194 06:30:58  6011  2010  -134754.95       NaN       0   \n",
      "16        96372458  151 06:10:05  6011  2010  -224591.58       NaN       0   \n",
      "17        96372458  381 06:16:54  6011  2010  -112295.79    256566       0   \n",
      "18        96372458  219 06:26:00  6011  2010   -44918.32    798323       0   \n",
      "19        96372458  140 07:36:59  6011  2010  -359346.52       NaN       0   \n",
      "20        96372458  235 01:06:31  6011  2010  -314428.21    256566       0   \n",
      "21        96372458  250 01:06:43  6011  2010   -56147.89    256566       0   \n",
      "22        96372458  304 03:07:36  6011  2010  -774840.94    256566       0   \n",
      "23        96372458  322 06:04:01  6011  2010  -449183.15     58301       0   \n",
      "24        96372458  220 03:43:25  6011  2010  -112295.79    256572       0   \n",
      "25        96372458  249 01:06:18  6011  2010   -22459.16    256566       0   \n",
      "26        96372458   24 09:10:07  6011  2010 -1122957.89       NaN       0   \n",
      "27        96372458   77 07:09:36  6011  2010 -1122957.89       NaN       0   \n",
      "28        96372458  409 06:29:49  6011  2010  -404264.84    256566       0   \n",
      "29        96372458  392 02:38:02  6011  2010  -786070.52    256566       0   \n",
      "...            ...           ...   ...   ...         ...       ...     ...   \n",
      "4101693   15166647  423 00:00:00  5964  6200     7360.54  00000001       0   \n",
      "4101694   15166647  370 00:00:00  5964  6200     5089.25  00000001       0   \n",
      "4101695   96325605  349 00:00:00  5964  6200    15244.15  00000001       0   \n",
      "4101696    8739208  342 00:00:00  5964  6200      572.03  00000001       0   \n",
      "4101697   50677956  274 00:00:00  5964  6200     7137.97  00000001       0   \n",
      "4101698   13003554  141 00:00:00  5964  6200    15986.43       NaN       0   \n",
      "4101699   26392084  417 00:00:00  5964  6200     6126.63  00000001       0   \n",
      "4101700   26392084  417 00:00:00  5964  6200     6126.63  00000001       0   \n",
      "4101701      53395  400 00:00:00  5964  6200     1114.87  00000001       0   \n",
      "4101702   27322560  322 00:00:00  5964  6200      522.18  00000001       0   \n",
      "4101703   27322560   68 00:00:00  5964  6200     3689.82       NaN       0   \n",
      "4101704   33122190  337 00:00:00  5964  6200     3812.44  00000001       1   \n",
      "4101705   18562357   64 00:00:00  5964  6200     5950.78       NaN       0   \n",
      "4101706   65393099  369 00:00:00  5964  6200      856.82  00000001       0   \n",
      "4101707   32970687  392 00:00:00  5964  6200     4605.25  00000001       0   \n",
      "4101708   32970687  402 00:00:00  5964  6200     2600.55  00000001       0   \n",
      "4101709   32970687  401 00:00:00  5964  6200     5867.68  00000001       0   \n",
      "4101710   32970687  393 00:00:00  5964  6200     1320.15  00000001       0   \n",
      "4101711   25617927  305 00:00:00  5964  6200     8634.65  00000001       0   \n",
      "4101712   12976812  318 00:00:00  5964  6200    16124.55  00000001       1   \n",
      "4101713   35499455  343 00:00:00  5964  6100    14732.08  00000001       0   \n",
      "4101714   75169373   90 00:00:00  5964  6100    82670.36       NaN       1   \n",
      "4101715   77436906  380 00:00:00  5964  6100     5497.78  00000001       1   \n",
      "4101716   98373939  239 00:00:00  5964  6100     8428.02  00000001       0   \n",
      "4101717   90493352  416 00:00:00  5964  6100     8610.62  00000001       1   \n",
      "4101718   82906365  420 00:00:00  5964  6100    10161.87  00000001       0   \n",
      "4101719   87822979  375 00:00:00  5964  6100    11671.80  00000001       0   \n",
      "4101720   77388478  391 00:00:00  5964  6100      192.70  00000001       0   \n",
      "4101721   11321790  385 00:00:00  5964  6100    10581.41  00000001       1   \n",
      "4101722   52358368   73 00:00:00  5964  1210  -388511.99       NaN       0   \n",
      "\n",
      "                              type_description  \\\n",
      "0        Выдача наличных в АТМ Сбербанк России   \n",
      "1        Выдача наличных в АТМ Сбербанк России   \n",
      "2        Выдача наличных в АТМ Сбербанк России   \n",
      "3        Выдача наличных в АТМ Сбербанк России   \n",
      "4        Выдача наличных в АТМ Сбербанк России   \n",
      "5        Выдача наличных в АТМ Сбербанк России   \n",
      "6        Выдача наличных в АТМ Сбербанк России   \n",
      "7        Выдача наличных в АТМ Сбербанк России   \n",
      "8        Выдача наличных в АТМ Сбербанк России   \n",
      "9        Выдача наличных в АТМ Сбербанк России   \n",
      "10       Выдача наличных в АТМ Сбербанк России   \n",
      "11       Выдача наличных в АТМ Сбербанк России   \n",
      "12       Выдача наличных в АТМ Сбербанк России   \n",
      "13       Выдача наличных в АТМ Сбербанк России   \n",
      "14       Выдача наличных в АТМ Сбербанк России   \n",
      "15       Выдача наличных в АТМ Сбербанк России   \n",
      "16       Выдача наличных в АТМ Сбербанк России   \n",
      "17       Выдача наличных в АТМ Сбербанк России   \n",
      "18       Выдача наличных в АТМ Сбербанк России   \n",
      "19       Выдача наличных в АТМ Сбербанк России   \n",
      "20       Выдача наличных в АТМ Сбербанк России   \n",
      "21       Выдача наличных в АТМ Сбербанк России   \n",
      "22       Выдача наличных в АТМ Сбербанк России   \n",
      "23       Выдача наличных в АТМ Сбербанк России   \n",
      "24       Выдача наличных в АТМ Сбербанк России   \n",
      "25       Выдача наличных в АТМ Сбербанк России   \n",
      "26       Выдача наличных в АТМ Сбербанк России   \n",
      "27       Выдача наличных в АТМ Сбербанк России   \n",
      "28       Выдача наличных в АТМ Сбербанк России   \n",
      "29       Выдача наличных в АТМ Сбербанк России   \n",
      "...                                        ...   \n",
      "4101693          Возврат  покупки. Зарубеж. ТУ   \n",
      "4101694          Возврат  покупки. Зарубеж. ТУ   \n",
      "4101695          Возврат  покупки. Зарубеж. ТУ   \n",
      "4101696          Возврат  покупки. Зарубеж. ТУ   \n",
      "4101697          Возврат  покупки. Зарубеж. ТУ   \n",
      "4101698          Возврат  покупки. Зарубеж. ТУ   \n",
      "4101699          Возврат  покупки. Зарубеж. ТУ   \n",
      "4101700          Возврат  покупки. Зарубеж. ТУ   \n",
      "4101701          Возврат  покупки. Зарубеж. ТУ   \n",
      "4101702          Возврат  покупки. Зарубеж. ТУ   \n",
      "4101703          Возврат  покупки. Зарубеж. ТУ   \n",
      "4101704          Возврат  покупки. Зарубеж. ТУ   \n",
      "4101705          Возврат  покупки. Зарубеж. ТУ   \n",
      "4101706          Возврат  покупки. Зарубеж. ТУ   \n",
      "4101707          Возврат  покупки. Зарубеж. ТУ   \n",
      "4101708          Возврат  покупки. Зарубеж. ТУ   \n",
      "4101709          Возврат  покупки. Зарубеж. ТУ   \n",
      "4101710          Возврат  покупки. Зарубеж. ТУ   \n",
      "4101711          Возврат  покупки. Зарубеж. ТУ   \n",
      "4101712          Возврат  покупки. Зарубеж. ТУ   \n",
      "4101713            Возврат  покупки. ТУ Россия   \n",
      "4101714            Возврат  покупки. ТУ Россия   \n",
      "4101715            Возврат  покупки. ТУ Россия   \n",
      "4101716            Возврат  покупки. ТУ Россия   \n",
      "4101717            Возврат  покупки. ТУ Россия   \n",
      "4101718            Возврат  покупки. ТУ Россия   \n",
      "4101719            Возврат  покупки. ТУ Россия   \n",
      "4101720            Возврат  покупки. ТУ Россия   \n",
      "4101721            Возврат  покупки. ТУ Россия   \n",
      "4101722              Покупка. POS  Зарубеж. ТУ   \n",
      "\n",
      "                                          code_description  \n",
      "0        Финансовые институты — снятие наличности автом...  \n",
      "1        Финансовые институты — снятие наличности автом...  \n",
      "2        Финансовые институты — снятие наличности автом...  \n",
      "3        Финансовые институты — снятие наличности автом...  \n",
      "4        Финансовые институты — снятие наличности автом...  \n",
      "5        Финансовые институты — снятие наличности автом...  \n",
      "6        Финансовые институты — снятие наличности автом...  \n",
      "7        Финансовые институты — снятие наличности автом...  \n",
      "8        Финансовые институты — снятие наличности автом...  \n",
      "9        Финансовые институты — снятие наличности автом...  \n",
      "10       Финансовые институты — снятие наличности автом...  \n",
      "11       Финансовые институты — снятие наличности автом...  \n",
      "12       Финансовые институты — снятие наличности автом...  \n",
      "13       Финансовые институты — снятие наличности автом...  \n",
      "14       Финансовые институты — снятие наличности автом...  \n",
      "15       Финансовые институты — снятие наличности автом...  \n",
      "16       Финансовые институты — снятие наличности автом...  \n",
      "17       Финансовые институты — снятие наличности автом...  \n",
      "18       Финансовые институты — снятие наличности автом...  \n",
      "19       Финансовые институты — снятие наличности автом...  \n",
      "20       Финансовые институты — снятие наличности автом...  \n",
      "21       Финансовые институты — снятие наличности автом...  \n",
      "22       Финансовые институты — снятие наличности автом...  \n",
      "23       Финансовые институты — снятие наличности автом...  \n",
      "24       Финансовые институты — снятие наличности автом...  \n",
      "25       Финансовые институты — снятие наличности автом...  \n",
      "26       Финансовые институты — снятие наличности автом...  \n",
      "27       Финансовые институты — снятие наличности автом...  \n",
      "28       Финансовые институты — снятие наличности автом...  \n",
      "29       Финансовые институты — снятие наличности автом...  \n",
      "...                                                    ...  \n",
      "4101693          Прямой маркетинг — торговля через каталог  \n",
      "4101694          Прямой маркетинг — торговля через каталог  \n",
      "4101695          Прямой маркетинг — торговля через каталог  \n",
      "4101696          Прямой маркетинг — торговля через каталог  \n",
      "4101697          Прямой маркетинг — торговля через каталог  \n",
      "4101698          Прямой маркетинг — торговля через каталог  \n",
      "4101699          Прямой маркетинг — торговля через каталог  \n",
      "4101700          Прямой маркетинг — торговля через каталог  \n",
      "4101701          Прямой маркетинг — торговля через каталог  \n",
      "4101702          Прямой маркетинг — торговля через каталог  \n",
      "4101703          Прямой маркетинг — торговля через каталог  \n",
      "4101704          Прямой маркетинг — торговля через каталог  \n",
      "4101705          Прямой маркетинг — торговля через каталог  \n",
      "4101706          Прямой маркетинг — торговля через каталог  \n",
      "4101707          Прямой маркетинг — торговля через каталог  \n",
      "4101708          Прямой маркетинг — торговля через каталог  \n",
      "4101709          Прямой маркетинг — торговля через каталог  \n",
      "4101710          Прямой маркетинг — торговля через каталог  \n",
      "4101711          Прямой маркетинг — торговля через каталог  \n",
      "4101712          Прямой маркетинг — торговля через каталог  \n",
      "4101713          Прямой маркетинг — торговля через каталог  \n",
      "4101714          Прямой маркетинг — торговля через каталог  \n",
      "4101715          Прямой маркетинг — торговля через каталог  \n",
      "4101716          Прямой маркетинг — торговля через каталог  \n",
      "4101717          Прямой маркетинг — торговля через каталог  \n",
      "4101718          Прямой маркетинг — торговля через каталог  \n",
      "4101719          Прямой маркетинг — торговля через каталог  \n",
      "4101720          Прямой маркетинг — торговля через каталог  \n",
      "4101721          Прямой маркетинг — торговля через каталог  \n",
      "4101722          Прямой маркетинг — торговля через каталог  \n",
      "\n",
      "[4101723 rows x 9 columns]\n"
     ]
    }
   ],
   "source": [
    "#LABORATORY WORK 4. WORKING WITH PANDA\n",
    "\n",
    "import pandas as panda\n",
    "import numpy as np\n",
    "import matplotlib.pyplot as plt\n",
    "\n",
    "%matplotlib inline\n",
    "\n",
    "\n",
    "data1 = panda.read_csv('1 - operations.csv',sep=',', decimal='.')\n",
    "data2 = panda.read_csv('2 - dataset.csv',sep=',', decimal='.')\n",
    "data3 = panda.read_csv('3 - types.csv', sep=';')\n",
    "data4 = panda.read_csv('4 - codes.csv', sep=';')\n",
    "\n",
    "merge1 = panda.merge(data1, data2, on='client_id')\n",
    "merge2 = panda.merge(merge1, data3, on='type')\n",
    "merge3 = panda.merge(merge2, data4, on='code')\n",
    "\n",
    "\n",
    "print(merge3)"
   ]
  },
  {
   "cell_type": "code",
   "execution_count": 9,
   "metadata": {},
   "outputs": [
    {
     "name": "stderr",
     "output_type": "stream",
     "text": [
      "C:\\MachineVision\\envs\\python35\\lib\\site-packages\\ipykernel_launcher.py:3: UserWarning: Boolean Series key will be reindexed to match DataFrame index.\n",
      "  This is separate from the ipykernel package so we can avoid doing imports until\n"
     ]
    },
    {
     "data": {
      "image/png": "[encoded data removed]",
      "text/plain": [
       "<matplotlib.figure.Figure at 0x16f00292908>"
      ]
     },
     "metadata": {},
     "output_type": "display_data"
    }
   ],
   "source": [
    "import matplotlib.pyplot as plt\n",
    "\n",
    "merge3[merge3['client_id']>61500000][merge3['client_id']<81500000]['client_id'].hist(bins=50,color = 'teal')\n",
    "plt.show()\n",
    "\n",
    "#Answer\n",
    "#client id's in the range [700000000 - 71000000] are frequently used."
   ]
  },
  {
   "cell_type": "code",
   "execution_count": 60,
   "metadata": {},
   "outputs": [
    {
     "data": {
      "text/plain": [
       "1010    967327\n",
       "2010    628024\n",
       "1030    572711\n",
       "1110    561695\n",
       "7070    413450\n",
       "2370    219813\n",
       "7010    156397\n",
       "7030     90979\n",
       "1100     71325\n",
       "1200     54970\n",
       "7071     48656\n",
       "2330     42468\n",
       "2371     38191\n",
       "4071     38188\n",
       "2011     37977\n",
       "7031     19431\n",
       "4010     18975\n",
       "2331     12587\n",
       "4051     12584\n",
       "6110     12453\n",
       "1210     12382\n",
       "7020      8773\n",
       "2020      7846\n",
       "4011      6976\n",
       "7011      6938\n",
       "2110      5811\n",
       "4110      5802\n",
       "7021      4981\n",
       "2320      3191\n",
       "2210      3034\n",
       "         ...  \n",
       "4041       573\n",
       "7075       360\n",
       "7034       345\n",
       "2021       333\n",
       "6210       321\n",
       "4031       299\n",
       "4500       210\n",
       "4020       168\n",
       "7035       154\n",
       "7040       154\n",
       "2340       113\n",
       "8100       110\n",
       "4100        84\n",
       "2100        80\n",
       "7041        55\n",
       "4021        47\n",
       "7024        42\n",
       "7015        38\n",
       "6000        34\n",
       "4061        27\n",
       "2341        27\n",
       "1000        26\n",
       "7025        23\n",
       "2200        21\n",
       "4200        15\n",
       "1510        13\n",
       "4045         6\n",
       "8146         5\n",
       "8145         3\n",
       "4035         2\n",
       "Name: type, Length: 70, dtype: int64"
      ]
     },
     "execution_count": 60,
     "metadata": {},
     "output_type": "execute_result"
    }
   ],
   "source": [
    "merge3['type'].value_counts()"
   ]
  },
  {
   "cell_type": "code",
   "execution_count": 15,
   "metadata": {},
   "outputs": [
    {
     "name": "stderr",
     "output_type": "stream",
     "text": [
      "C:\\MachineVision\\envs\\python35\\lib\\site-packages\\ipykernel_launcher.py:1: UserWarning: Boolean Series key will be reindexed to match DataFrame index.\n",
      "  \"\"\"Entry point for launching an IPython kernel.\n"
     ]
    },
    {
     "data": {
      "image/png": "[encoded data removed]",
      "text/plain": [
       "<matplotlib.figure.Figure at 0x16f01b4def0>"
      ]
     },
     "metadata": {},
     "output_type": "display_data"
    }
   ],
   "source": [
    "merge3[merge3['sum']>-50000][merge3['sum']<20000]['sum'].hist(bins=50,color = 'blue')\n",
    "plt.show()\n",
    "\n",
    "#Answer\n",
    "#The maximum frequently encountered sum value is approximately between [-5000;0]\n",
    "#The minimun frequently seen sum value is between [-45000;-35000] and near the 20000"
   ]
  },
  {
   "cell_type": "code",
   "execution_count": 6,
   "metadata": {},
   "outputs": [
    {
     "data": {
      "text/plain": [
       "-2245.92      236676\n",
       "-11229.58     118523\n",
       "-1122.96      118136\n",
       "-22459.16     115667\n",
       "-4491.83      104812\n",
       "-6737.75       71361\n",
       "-44918.32      70378\n",
       "-67377.47      56532\n",
       "-112295.79     44177\n",
       "-8983.66       43980\n",
       "-89836.63      38203\n",
       "-3368.87       37823\n",
       " 22459.16      36839\n",
       " 112295.79     30833\n",
       "-33688.74      30224\n",
       "-224591.58     30095\n",
       " 44918.32      24952\n",
       "-20213.24      22323\n",
       " 67377.47      19636\n",
       "-13475.49      19213\n",
       " 11229.58      19186\n",
       "-5614.79       18506\n",
       " 224591.58     18336\n",
       "-15721.41      16179\n",
       "-673.77        15872\n",
       "-449.18        14891\n",
       "-449183.15     14788\n",
       "-56147.89      13499\n",
       "-224.59        13489\n",
       "-17967.33      13415\n",
       "               ...  \n",
       "-39975.05          1\n",
       "-19011.23          1\n",
       " 808403.46         1\n",
       "-19002.02          1\n",
       "-39979.55          1\n",
       "-123267.09         1\n",
       "-123264.84         1\n",
       "-347982.19         1\n",
       " 137876.77         1\n",
       " 71496.03          1\n",
       " 54779.46          1\n",
       "-40320.70          1\n",
       "-30320.76          1\n",
       "-762263.81         1\n",
       "-33300.19          1\n",
       "-346679.56         1\n",
       "-40034.80          1\n",
       "-40349.45          1\n",
       "-18975.52          1\n",
       "-71454.03          1\n",
       "-70882.22          1\n",
       "-71443.03          1\n",
       "-16140.95          1\n",
       "-123584.66         1\n",
       " 19050.98          1\n",
       "-16335.44          1\n",
       " 346814.31         1\n",
       "-70873.47          1\n",
       " 165718.04         1\n",
       "-36331.06          1\n",
       "Name: sum, Length: 259330, dtype: int64"
      ]
     },
     "execution_count": 6,
     "metadata": {},
     "output_type": "execute_result"
    }
   ],
   "source": [
    "merge3['sum'].value_counts()"
   ]
  },
  {
   "cell_type": "code",
   "execution_count": 20,
   "metadata": {},
   "outputs": [
    {
     "data": {
      "image/png": "[encoded data removed]",
      "text/plain": [
       "<matplotlib.figure.Figure at 0x16f017739e8>"
      ]
     },
     "metadata": {},
     "output_type": "display_data"
    }
   ],
   "source": [
    "merge3['status'].hist(bins=50,color = 'red')\n",
    "plt.show()\n",
    "\n"
   ]
  },
  {
   "cell_type": "code",
   "execution_count": 21,
   "metadata": {},
   "outputs": [
    {
     "data": {
      "text/plain": [
       "0    2111968\n",
       "1    1989755\n",
       "Name: status, dtype: int64"
      ]
     },
     "execution_count": 21,
     "metadata": {},
     "output_type": "execute_result"
    }
   ],
   "source": [
    "#count of status\n",
    "merge3['status'].value_counts()"
   ]
  },
  {
   "cell_type": "code",
   "execution_count": 62,
   "metadata": {},
   "outputs": [
    {
     "data": {
      "image/png": "[encoded data removed]",
      "text/plain": [
       "<matplotlib.figure.Figure at 0x20913681ba8>"
      ]
     },
     "metadata": {},
     "output_type": "display_data"
    }
   ],
   "source": [
    "merge3['type'].hist(bins=50,color = 'yellow')\n",
    "plt.show()\n",
    "\n",
    "#Answer\n",
    "#Types between [1000;1100] are the most frequently encountered\n",
    "#In the second place in [7000;7100] range\n",
    "#The least frequently appeared type value between [6000;6100] range"
   ]
  },
  {
   "cell_type": "code",
   "execution_count": 22,
   "metadata": {},
   "outputs": [
    {
     "data": {
      "text/plain": [
       "1010    967327\n",
       "2010    628024\n",
       "1030    572711\n",
       "1110    561695\n",
       "7070    413450\n",
       "2370    219813\n",
       "7010    156397\n",
       "7030     90979\n",
       "1100     71325\n",
       "1200     54970\n",
       "7071     48656\n",
       "2330     42468\n",
       "2371     38191\n",
       "4071     38188\n",
       "2011     37977\n",
       "7031     19431\n",
       "4010     18975\n",
       "2331     12587\n",
       "4051     12584\n",
       "6110     12453\n",
       "1210     12382\n",
       "7020      8773\n",
       "2020      7846\n",
       "4011      6976\n",
       "7011      6938\n",
       "2110      5811\n",
       "4110      5802\n",
       "7021      4981\n",
       "2320      3191\n",
       "2210      3034\n",
       "         ...  \n",
       "4041       573\n",
       "7075       360\n",
       "7034       345\n",
       "2021       333\n",
       "6210       321\n",
       "4031       299\n",
       "4500       210\n",
       "4020       168\n",
       "7035       154\n",
       "7040       154\n",
       "2340       113\n",
       "8100       110\n",
       "4100        84\n",
       "2100        80\n",
       "7041        55\n",
       "4021        47\n",
       "7024        42\n",
       "7015        38\n",
       "6000        34\n",
       "4061        27\n",
       "2341        27\n",
       "1000        26\n",
       "7025        23\n",
       "2200        21\n",
       "4200        15\n",
       "1510        13\n",
       "4045         6\n",
       "8146         5\n",
       "8145         3\n",
       "4035         2\n",
       "Name: type, Length: 70, dtype: int64"
      ]
     },
     "execution_count": 22,
     "metadata": {},
     "output_type": "execute_result"
    }
   ],
   "source": [
    "merge3['type'].value_counts()"
   ]
  },
  {
   "cell_type": "code",
   "execution_count": 32,
   "metadata": {},
   "outputs": [
    {
     "name": "stderr",
     "output_type": "stream",
     "text": [
      "C:\\MachineVision\\envs\\python35\\lib\\site-packages\\ipykernel_launcher.py:1: UserWarning: Boolean Series key will be reindexed to match DataFrame index.\n",
      "  \"\"\"Entry point for launching an IPython kernel.\n"
     ]
    },
    {
     "data": {
      "image/png": "[encoded data removed]",
      "text/plain": [
       "<matplotlib.figure.Figure at 0x16f017c1940>"
      ]
     },
     "metadata": {},
     "output_type": "display_data"
    }
   ],
   "source": [
    "merge3[merge3['code']>4000][merge3['code']<9000]['code'].hist(bins=50,color = 'orange')\n",
    "plt.show()\n",
    "\n",
    "#Answer\n",
    "# Code that starts from 6000 is frequently appeared, which is about 1600000 times used.\n",
    "#The minimum code value is between [4200;4300], [6500;6600] and [8900;9000] ranges."
   ]
  },
  {
   "cell_type": "code",
   "execution_count": 24,
   "metadata": {},
   "outputs": [
    {
     "data": {
      "text/plain": [
       "6011    873923\n",
       "6010    598026\n",
       "4814    581961\n",
       "5411    581710\n",
       "4829    366996\n",
       "5499    205523\n",
       "5541     86295\n",
       "5912     82282\n",
       "5331     76464\n",
       "5812     65814\n",
       "5814     59562\n",
       "5921     35613\n",
       "5999     33004\n",
       "5311     21972\n",
       "5977     21460\n",
       "5964     19148\n",
       "5983     18267\n",
       "5211     17966\n",
       "5691     17919\n",
       "7995     14407\n",
       "8999     14205\n",
       "5200     14130\n",
       "5661     12930\n",
       "7311     12395\n",
       "5735     12068\n",
       "5533     12034\n",
       "6012      9871\n",
       "5641      9607\n",
       "5651      9296\n",
       "4812      8725\n",
       "         ...  \n",
       "5085        72\n",
       "5571        71\n",
       "7210        67\n",
       "7395        66\n",
       "5169        66\n",
       "5131        65\n",
       "1799        65\n",
       "8220        61\n",
       "1711        60\n",
       "5047        59\n",
       "1731        58\n",
       "5172        57\n",
       "5940        54\n",
       "7338        53\n",
       "5965        53\n",
       "8699        49\n",
       "9402        49\n",
       "5971        44\n",
       "5044        40\n",
       "5969        39\n",
       "7531        39\n",
       "3351        38\n",
       "8244        29\n",
       "9211        29\n",
       "7629        28\n",
       "5697        26\n",
       "7932        25\n",
       "7829        22\n",
       "2741        21\n",
       "6513        16\n",
       "Name: code, Length: 184, dtype: int64"
      ]
     },
     "execution_count": 24,
     "metadata": {},
     "output_type": "execute_result"
    }
   ],
   "source": [
    "merge3['code'].value_counts()"
   ]
  },
  {
   "cell_type": "code",
   "execution_count": null,
   "metadata": {
    "collapsed": true
   },
   "outputs": [],
   "source": []
  }
 ],
 "metadata": {
  "kernelspec": {
   "display_name": "Python 3",
   "language": "python",
   "name": "python3"
  },
  "language_info": {
   "codemirror_mode": {
    "name": "ipython",
    "version": 3
   },
   "file_extension": ".py",
   "mimetype": "text/x-python",
   "name": "python",
   "nbconvert_exporter": "python",
   "pygments_lexer": "ipython3",
   "version": "3.5.3"
  }
 },
 "nbformat": 4,
 "nbformat_minor": 2
}
